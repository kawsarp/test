{
 "cells": [
  {
   "cell_type": "markdown",
   "id": "79d875d8-ddb0-48b2-8439-bd4376df04e3",
   "metadata": {},
   "source": [
    "In this lab, you will be building a Plotly Dash application for users to perform interactive visual analytics on SpaceX launch data in\n",
    "real-time."
   ]
  },
  {
   "cell_type": "markdown",
   "id": "3f6fb830-0835-4efc-b0ac-4ff4a85e041e",
   "metadata": {},
   "source": [
    "TASK 1: Add a Launch Site Drop-down Input Component"
   ]
  },
  {
   "cell_type": "code",
   "execution_count": 3,
   "id": "e5d9560a-e8a2-4601-990a-0e72bf1563ba",
   "metadata": {},
   "outputs": [
    {
     "name": "stdout",
     "output_type": "stream",
     "text": [
      "Requirement already satisfied: pandas in c:\\users\\ksalam\\appdata\\local\\anaconda3\\lib\\site-packages (2.2.2)\n",
      "Requirement already satisfied: dash in c:\\users\\ksalam\\appdata\\local\\anaconda3\\lib\\site-packages (2.17.1)\n",
      "Requirement already satisfied: numpy>=1.26.0 in c:\\users\\ksalam\\appdata\\local\\anaconda3\\lib\\site-packages (from pandas) (1.26.4)\n",
      "Requirement already satisfied: python-dateutil>=2.8.2 in c:\\users\\ksalam\\appdata\\local\\anaconda3\\lib\\site-packages (from pandas) (2.9.0.post0)\n",
      "Requirement already satisfied: pytz>=2020.1 in c:\\users\\ksalam\\appdata\\local\\anaconda3\\lib\\site-packages (from pandas) (2024.1)\n",
      "Requirement already satisfied: tzdata>=2022.7 in c:\\users\\ksalam\\appdata\\local\\anaconda3\\lib\\site-packages (from pandas) (2023.3)\n",
      "Requirement already satisfied: Flask<3.1,>=1.0.4 in c:\\users\\ksalam\\appdata\\local\\anaconda3\\lib\\site-packages (from dash) (3.0.3)\n",
      "Requirement already satisfied: Werkzeug<3.1 in c:\\users\\ksalam\\appdata\\local\\anaconda3\\lib\\site-packages (from dash) (3.0.3)\n",
      "Requirement already satisfied: plotly>=5.0.0 in c:\\users\\ksalam\\appdata\\local\\anaconda3\\lib\\site-packages (from dash) (5.22.0)\n",
      "Requirement already satisfied: dash-html-components==2.0.0 in c:\\users\\ksalam\\appdata\\local\\anaconda3\\lib\\site-packages (from dash) (2.0.0)\n",
      "Requirement already satisfied: dash-core-components==2.0.0 in c:\\users\\ksalam\\appdata\\local\\anaconda3\\lib\\site-packages (from dash) (2.0.0)\n",
      "Requirement already satisfied: dash-table==5.0.0 in c:\\users\\ksalam\\appdata\\local\\anaconda3\\lib\\site-packages (from dash) (5.0.0)\n",
      "Requirement already satisfied: importlib-metadata in c:\\users\\ksalam\\appdata\\local\\anaconda3\\lib\\site-packages (from dash) (7.0.1)\n",
      "Requirement already satisfied: typing-extensions>=4.1.1 in c:\\users\\ksalam\\appdata\\local\\anaconda3\\lib\\site-packages (from dash) (4.11.0)\n",
      "Requirement already satisfied: requests in c:\\users\\ksalam\\appdata\\local\\anaconda3\\lib\\site-packages (from dash) (2.32.2)\n",
      "Requirement already satisfied: retrying in c:\\users\\ksalam\\appdata\\local\\anaconda3\\lib\\site-packages (from dash) (1.3.4)\n",
      "Requirement already satisfied: nest-asyncio in c:\\users\\ksalam\\appdata\\local\\anaconda3\\lib\\site-packages (from dash) (1.6.0)\n",
      "Requirement already satisfied: setuptools in c:\\users\\ksalam\\appdata\\local\\anaconda3\\lib\\site-packages (from dash) (69.5.1)\n",
      "Requirement already satisfied: Jinja2>=3.1.2 in c:\\users\\ksalam\\appdata\\local\\anaconda3\\lib\\site-packages (from Flask<3.1,>=1.0.4->dash) (3.1.4)\n",
      "Requirement already satisfied: itsdangerous>=2.1.2 in c:\\users\\ksalam\\appdata\\local\\anaconda3\\lib\\site-packages (from Flask<3.1,>=1.0.4->dash) (2.2.0)\n",
      "Requirement already satisfied: click>=8.1.3 in c:\\users\\ksalam\\appdata\\local\\anaconda3\\lib\\site-packages (from Flask<3.1,>=1.0.4->dash) (8.1.7)\n",
      "Requirement already satisfied: blinker>=1.6.2 in c:\\users\\ksalam\\appdata\\local\\anaconda3\\lib\\site-packages (from Flask<3.1,>=1.0.4->dash) (1.6.2)\n",
      "Requirement already satisfied: tenacity>=6.2.0 in c:\\users\\ksalam\\appdata\\local\\anaconda3\\lib\\site-packages (from plotly>=5.0.0->dash) (8.2.2)\n",
      "Requirement already satisfied: packaging in c:\\users\\ksalam\\appdata\\local\\anaconda3\\lib\\site-packages (from plotly>=5.0.0->dash) (23.2)\n",
      "Requirement already satisfied: six>=1.5 in c:\\users\\ksalam\\appdata\\local\\anaconda3\\lib\\site-packages (from python-dateutil>=2.8.2->pandas) (1.16.0)\n",
      "Requirement already satisfied: MarkupSafe>=2.1.1 in c:\\users\\ksalam\\appdata\\local\\anaconda3\\lib\\site-packages (from Werkzeug<3.1->dash) (2.1.3)\n",
      "Requirement already satisfied: zipp>=0.5 in c:\\users\\ksalam\\appdata\\local\\anaconda3\\lib\\site-packages (from importlib-metadata->dash) (3.17.0)\n",
      "Requirement already satisfied: charset-normalizer<4,>=2 in c:\\users\\ksalam\\appdata\\local\\anaconda3\\lib\\site-packages (from requests->dash) (2.0.4)\n",
      "Requirement already satisfied: idna<4,>=2.5 in c:\\users\\ksalam\\appdata\\local\\anaconda3\\lib\\site-packages (from requests->dash) (3.7)\n",
      "Requirement already satisfied: urllib3<3,>=1.21.1 in c:\\users\\ksalam\\appdata\\local\\anaconda3\\lib\\site-packages (from requests->dash) (2.2.2)\n",
      "Requirement already satisfied: certifi>=2017.4.17 in c:\\users\\ksalam\\appdata\\local\\anaconda3\\lib\\site-packages (from requests->dash) (2024.7.4)\n",
      "Requirement already satisfied: colorama in c:\\users\\ksalam\\appdata\\local\\anaconda3\\lib\\site-packages (from click>=8.1.3->Flask<3.1,>=1.0.4->dash) (0.4.6)\n",
      "Note: you may need to restart the kernel to use updated packages.\n"
     ]
    }
   ],
   "source": [
    "pip install pandas dash\n"
   ]
  },
  {
   "cell_type": "code",
   "execution_count": 4,
   "id": "204fda88-2fb2-4fe3-aa50-a65c539c3fdd",
   "metadata": {},
   "outputs": [
    {
     "name": "stdout",
     "output_type": "stream",
     "text": [
      "Requirement already satisfied: panel in c:\\users\\ksalam\\appdata\\local\\anaconda3\\lib\\site-packages (1.4.4)\n",
      "Requirement already satisfied: bokeh<3.5.0,>=3.4.0 in c:\\users\\ksalam\\appdata\\local\\anaconda3\\lib\\site-packages (from panel) (3.4.1)\n",
      "Requirement already satisfied: param<3.0,>=2.1.0 in c:\\users\\ksalam\\appdata\\local\\anaconda3\\lib\\site-packages (from panel) (2.1.0)\n",
      "Requirement already satisfied: pyviz-comms>=2.0.0 in c:\\users\\ksalam\\appdata\\local\\anaconda3\\lib\\site-packages (from panel) (3.0.2)\n",
      "Requirement already satisfied: xyzservices>=2021.09.1 in c:\\users\\ksalam\\appdata\\local\\anaconda3\\lib\\site-packages (from panel) (2022.9.0)\n",
      "Requirement already satisfied: markdown in c:\\users\\ksalam\\appdata\\local\\anaconda3\\lib\\site-packages (from panel) (3.4.1)\n",
      "Requirement already satisfied: markdown-it-py in c:\\users\\ksalam\\appdata\\local\\anaconda3\\lib\\site-packages (from panel) (2.2.0)\n",
      "Requirement already satisfied: linkify-it-py in c:\\users\\ksalam\\appdata\\local\\anaconda3\\lib\\site-packages (from panel) (2.0.0)\n",
      "Requirement already satisfied: mdit-py-plugins in c:\\users\\ksalam\\appdata\\local\\anaconda3\\lib\\site-packages (from panel) (0.3.0)\n",
      "Requirement already satisfied: requests in c:\\users\\ksalam\\appdata\\local\\anaconda3\\lib\\site-packages (from panel) (2.32.2)\n",
      "Requirement already satisfied: tqdm>=4.48.0 in c:\\users\\ksalam\\appdata\\local\\anaconda3\\lib\\site-packages (from panel) (4.66.4)\n",
      "Requirement already satisfied: bleach in c:\\users\\ksalam\\appdata\\local\\anaconda3\\lib\\site-packages (from panel) (4.1.0)\n",
      "Requirement already satisfied: typing-extensions in c:\\users\\ksalam\\appdata\\local\\anaconda3\\lib\\site-packages (from panel) (4.11.0)\n",
      "Requirement already satisfied: pandas>=1.2 in c:\\users\\ksalam\\appdata\\local\\anaconda3\\lib\\site-packages (from panel) (2.2.2)\n",
      "Requirement already satisfied: Jinja2>=2.9 in c:\\users\\ksalam\\appdata\\local\\anaconda3\\lib\\site-packages (from bokeh<3.5.0,>=3.4.0->panel) (3.1.4)\n",
      "Requirement already satisfied: contourpy>=1.2 in c:\\users\\ksalam\\appdata\\local\\anaconda3\\lib\\site-packages (from bokeh<3.5.0,>=3.4.0->panel) (1.2.0)\n",
      "Requirement already satisfied: numpy>=1.16 in c:\\users\\ksalam\\appdata\\local\\anaconda3\\lib\\site-packages (from bokeh<3.5.0,>=3.4.0->panel) (1.26.4)\n",
      "Requirement already satisfied: packaging>=16.8 in c:\\users\\ksalam\\appdata\\local\\anaconda3\\lib\\site-packages (from bokeh<3.5.0,>=3.4.0->panel) (23.2)\n",
      "Requirement already satisfied: pillow>=7.1.0 in c:\\users\\ksalam\\appdata\\local\\anaconda3\\lib\\site-packages (from bokeh<3.5.0,>=3.4.0->panel) (10.3.0)\n",
      "Requirement already satisfied: PyYAML>=3.10 in c:\\users\\ksalam\\appdata\\local\\anaconda3\\lib\\site-packages (from bokeh<3.5.0,>=3.4.0->panel) (6.0.1)\n",
      "Requirement already satisfied: tornado>=6.2 in c:\\users\\ksalam\\appdata\\local\\anaconda3\\lib\\site-packages (from bokeh<3.5.0,>=3.4.0->panel) (6.4.1)\n",
      "Requirement already satisfied: python-dateutil>=2.8.2 in c:\\users\\ksalam\\appdata\\local\\anaconda3\\lib\\site-packages (from pandas>=1.2->panel) (2.9.0.post0)\n",
      "Requirement already satisfied: pytz>=2020.1 in c:\\users\\ksalam\\appdata\\local\\anaconda3\\lib\\site-packages (from pandas>=1.2->panel) (2024.1)\n",
      "Requirement already satisfied: tzdata>=2022.7 in c:\\users\\ksalam\\appdata\\local\\anaconda3\\lib\\site-packages (from pandas>=1.2->panel) (2023.3)\n",
      "Requirement already satisfied: colorama in c:\\users\\ksalam\\appdata\\local\\anaconda3\\lib\\site-packages (from tqdm>=4.48.0->panel) (0.4.6)\n",
      "Requirement already satisfied: six>=1.9.0 in c:\\users\\ksalam\\appdata\\local\\anaconda3\\lib\\site-packages (from bleach->panel) (1.16.0)\n",
      "Requirement already satisfied: webencodings in c:\\users\\ksalam\\appdata\\local\\anaconda3\\lib\\site-packages (from bleach->panel) (0.5.1)\n",
      "Requirement already satisfied: uc-micro-py in c:\\users\\ksalam\\appdata\\local\\anaconda3\\lib\\site-packages (from linkify-it-py->panel) (1.0.1)\n",
      "Requirement already satisfied: mdurl~=0.1 in c:\\users\\ksalam\\appdata\\local\\anaconda3\\lib\\site-packages (from markdown-it-py->panel) (0.1.0)\n",
      "Requirement already satisfied: charset-normalizer<4,>=2 in c:\\users\\ksalam\\appdata\\local\\anaconda3\\lib\\site-packages (from requests->panel) (2.0.4)\n",
      "Requirement already satisfied: idna<4,>=2.5 in c:\\users\\ksalam\\appdata\\local\\anaconda3\\lib\\site-packages (from requests->panel) (3.7)\n",
      "Requirement already satisfied: urllib3<3,>=1.21.1 in c:\\users\\ksalam\\appdata\\local\\anaconda3\\lib\\site-packages (from requests->panel) (2.2.2)\n",
      "Requirement already satisfied: certifi>=2017.4.17 in c:\\users\\ksalam\\appdata\\local\\anaconda3\\lib\\site-packages (from requests->panel) (2024.7.4)\n",
      "Requirement already satisfied: MarkupSafe>=2.0 in c:\\users\\ksalam\\appdata\\local\\anaconda3\\lib\\site-packages (from Jinja2>=2.9->bokeh<3.5.0,>=3.4.0->panel) (2.1.3)\n",
      "Note: you may need to restart the kernel to use updated packages.\n"
     ]
    }
   ],
   "source": [
    "pip install panel\n"
   ]
  },
  {
   "cell_type": "code",
   "execution_count": 5,
   "id": "9bf2eb92-ed9d-4a18-b93f-bd19913ffb05",
   "metadata": {},
   "outputs": [],
   "source": [
    "import panel as pn\n",
    "import pandas as pd\n",
    "import numpy as np"
   ]
  },
  {
   "cell_type": "code",
   "execution_count": 6,
   "id": "acaf1ed3-20ac-491d-8307-1edd00545249",
   "metadata": {},
   "outputs": [
    {
     "name": "stdout",
     "output_type": "stream",
     "text": [
      "Requirement already satisfied: wget in c:\\users\\ksalam\\appdata\\local\\anaconda3\\lib\\site-packages (3.2)\n"
     ]
    }
   ],
   "source": [
    "!pip install wget"
   ]
  },
  {
   "cell_type": "raw",
   "id": "f9cf2398-3a40-4547-8b5b-81b16b319eba",
   "metadata": {},
   "source": [
    "import wget\n",
    "import pandas as pd"
   ]
  },
  {
   "cell_type": "code",
   "execution_count": 8,
   "id": "8e6019f5-f512-4d57-a326-2fe918d085dc",
   "metadata": {},
   "outputs": [
    {
     "name": "stdout",
     "output_type": "stream",
     "text": [
      "   Unnamed: 0  Flight Number  Launch Site  class  Payload Mass (kg)  \\\n",
      "0           0              1  CCAFS LC-40      0                0.0   \n",
      "1           1              2  CCAFS LC-40      0                0.0   \n",
      "2           2              3  CCAFS LC-40      0              525.0   \n",
      "3           3              4  CCAFS LC-40      0              500.0   \n",
      "4           4              5  CCAFS LC-40      0              677.0   \n",
      "\n",
      "  Booster Version Booster Version Category  \n",
      "0  F9 v1.0  B0003                     v1.0  \n",
      "1  F9 v1.0  B0004                     v1.0  \n",
      "2  F9 v1.0  B0005                     v1.0  \n",
      "3  F9 v1.0  B0006                     v1.0  \n",
      "4  F9 v1.0  B0007                     v1.0  \n"
     ]
    }
   ],
   "source": [
    "#download csv file\n",
    "import requests\n",
    "\n",
    "url = 'https://cf-courses-data.s3.us.cloud-object-storage.appdomain.cloud/IBM-DS0321EN-SkillsNetwork/datasets/spacex_launch_dash.csv'\n",
    "response = requests.get(url)\n",
    "\n",
    "with open('spacex_launch_dash.csv', 'wb') as file:\n",
    "    file.write(response.content)\n",
    "\n",
    "# Now read the CSV file into a DataFrame\n",
    "import pandas as pd\n",
    "spacex_df = pd.read_csv('spacex_launch_dash.csv')\n",
    "print(spacex_df.head(5))\n",
    "      "
   ]
  },
  {
   "cell_type": "markdown",
   "id": "9df06c78-1bc1-4f58-a3ea-1ce7e4efec38",
   "metadata": {},
   "source": [
    "TASK 2: Add a callback function to render success-pie-chart based on selected site dropdown"
   ]
  },
  {
   "cell_type": "code",
   "execution_count": 12,
   "id": "1ba5b83f-007b-421c-bfe9-10f94e205244",
   "metadata": {},
   "outputs": [
    {
     "data": {
      "text/html": [
       "\n",
       "        <iframe\n",
       "            width=\"100%\"\n",
       "            height=\"650\"\n",
       "            src=\"http://127.0.0.1:8050/\"\n",
       "            frameborder=\"0\"\n",
       "            allowfullscreen\n",
       "            \n",
       "        ></iframe>\n",
       "        "
      ],
      "text/plain": [
       "<IPython.lib.display.IFrame at 0x208e43e0740>"
      ]
     },
     "metadata": {},
     "output_type": "display_data"
    }
   ],
   "source": [
    "import pandas as pd\n",
    "import dash\n",
    "from dash import dcc, html\n",
    "from dash.dependencies import Input, Output\n",
    "import plotly.express as px\n",
    "\n",
    "# Load the CSV file\n",
    "spacex_df = pd.read_csv('spacex_launch_dash.csv')\n",
    "\n",
    "# Get the unique launch sites\n",
    "launch_sites = spacex_df['Launch Site'].unique()\n",
    "launch_sites = ['ALL'] + list(launch_sites)  # Include 'ALL' option\n",
    "\n",
    "# Define the minimum and maximum payload values\n",
    "min_payload = 0\n",
    "max_payload = 10000\n",
    "\n",
    "# Initialize the Dash app\n",
    "app = dash.Dash(__name__)\n",
    "\n",
    "# Define the layout of the app\n",
    "app.layout = html.Div([\n",
    "    html.H1(\"SpaceX Launch Data Dashboard\"),\n",
    "    \n",
    "    # Dropdown for selecting a launch site\n",
    "    dcc.Dropdown(\n",
    "        id='site-dropdown',\n",
    "        options=[{'label': site, 'value': site} for site in launch_sites],\n",
    "        value='ALL',  # Default value\n",
    "        placeholder=\"Select a Launch Site\",\n",
    "        searchable=True\n",
    "    ),\n",
    "    \n",
    "    # Slider for selecting payload mass range\n",
    "    dcc.RangeSlider(\n",
    "        id='payload-slider',\n",
    "        min=min_payload,\n",
    "        max=max_payload,\n",
    "        step=1000,\n",
    "        marks={i: f'{i} Kg' for i in range(min_payload, max_payload + 1000, 1000)},\n",
    "        value=[min_payload, max_payload]\n",
    "    ),\n",
    "    \n",
    "    # Placeholder for the pie chart\n",
    "    dcc.Graph(id='success-pie-chart'),\n",
    "\n",
    "    # Placeholder for the scatter chart\n",
    "    dcc.Graph(id='success-payload-scatter-chart')\n",
    "])\n",
    "\n",
    "# Callback to update the pie chart based on selected launch site and payload mass range\n",
    "@app.callback(\n",
    "    Output('success-pie-chart', 'figure'),\n",
    "    Input('site-dropdown', 'value'),\n",
    "    Input('payload-slider', 'value')\n",
    ")\n",
    "def update_pie_chart(selected_site, payload_range):\n",
    "    # Filter data based on the payload range\n",
    "    filtered_df = spacex_df[\n",
    "        (spacex_df['Payload Mass (kg)'] >= payload_range[0]) & \n",
    "        (spacex_df['Payload Mass (kg)'] <= payload_range[1])\n",
    "    ]\n",
    "    \n",
    "    if selected_site == 'ALL':\n",
    "        # Show overall success rate for all launch sites within the payload range\n",
    "        fig = px.pie(filtered_df, names='Launch Site', values='class',\n",
    "                     title=f'Overall Success Rate by Launch Site (Payload Mass: {payload_range[0]} - {payload_range[1]} kg)')\n",
    "    else:\n",
    "        # Filter data for the selected site within the payload range\n",
    "        filtered_df = filtered_df[filtered_df['Launch Site'] == selected_site]\n",
    "        # Show success vs. failure for the selected site within the payload range\n",
    "        fig = px.pie(filtered_df, names='class',\n",
    "                     title=f'Success vs. Failure for {selected_site} (Payload Mass: {payload_range[0]} - {payload_range[1]} kg)')\n",
    "    \n",
    "    return fig\n",
    "\n",
    "# Callback to update the scatter chart based on selected launch site and payload mass range\n",
    "@app.callback(\n",
    "    Output('success-payload-scatter-chart', 'figure'),\n",
    "    Input('site-dropdown', 'value'),\n",
    "    Input('payload-slider', 'value')\n",
    ")\n",
    "def update_scatter_chart(selected_site, payload_range):\n",
    "    # Filter data based on the payload range\n",
    "    filtered_df = spacex_df[\n",
    "        (spacex_df['Payload Mass (kg)'] >= payload_range[0]) & \n",
    "        (spacex_df['Payload Mass (kg)'] <= payload_range[1])\n",
    "    ]\n",
    "    \n",
    "    if selected_site == 'ALL':\n",
    "        # Show scatter plot for all sites within the payload range\n",
    "        fig = px.scatter(filtered_df, x='Payload Mass (kg)', y='class', color='Booster Version Category',\n",
    "                         title=f'Success by Payload Mass for All Sites (Payload Mass: {payload_range[0]} - {payload_range[1]} kg)')\n",
    "    else:\n",
    "        # Filter data for the selected site within the payload range\n",
    "        filtered_df = filtered_df[filtered_df['Launch Site'] == selected_site]\n",
    "        # Show scatter plot for the selected site within the payload range\n",
    "        fig = px.scatter(filtered_df, x='Payload Mass (kg)', y='class', color='Booster Version Category',\n",
    "                         title=f'Success by Payload Mass for {selected_site} (Payload Mass: {payload_range[0]} - {payload_range[1]} kg)')\n",
    "    \n",
    "    return fig\n",
    "\n",
    "# Run the app\n",
    "if __name__ == '__main__':\n",
    "    app.run_server(debug=True)\n",
    "# by opening it on the development server, http://127.0.0.1:8051/    "
   ]
  },
  {
   "cell_type": "code",
   "execution_count": null,
   "id": "c88ae279-e1f2-44c2-bc3e-d69c10fa9bf6",
   "metadata": {},
   "outputs": [],
   "source": []
  },
  {
   "cell_type": "code",
   "execution_count": null,
   "id": "f0bd8b7c-a41e-4fd7-868e-4a0d15dd9397",
   "metadata": {},
   "outputs": [],
   "source": []
  },
  {
   "cell_type": "code",
   "execution_count": null,
   "id": "987cbac8-a8e6-47e0-ba3a-b3eca6ad29ce",
   "metadata": {},
   "outputs": [],
   "source": []
  },
  {
   "cell_type": "code",
   "execution_count": null,
   "id": "a44b9f2e-ff68-4522-9788-cfdc3073e59a",
   "metadata": {},
   "outputs": [],
   "source": []
  }
 ],
 "metadata": {
  "kernelspec": {
   "display_name": "Python 3 (ipykernel)",
   "language": "python",
   "name": "python3"
  },
  "language_info": {
   "codemirror_mode": {
    "name": "ipython",
    "version": 3
   },
   "file_extension": ".py",
   "mimetype": "text/x-python",
   "name": "python",
   "nbconvert_exporter": "python",
   "pygments_lexer": "ipython3",
   "version": "3.12.4"
  }
 },
 "nbformat": 4,
 "nbformat_minor": 5
}
