{
 "cells": [
  {
   "cell_type": "markdown",
   "id": "e5a6eac7",
   "metadata": {},
   "source": [
    "# Data Science Tools and Ecosystem"
   ]
  },
  {
   "cell_type": "markdown",
   "id": "f89972f5",
   "metadata": {},
   "source": [
    "In this notebook, Data Science Tools and Ecosystem are summarized."
   ]
  },
  {
   "cell_type": "markdown",
   "id": "ee3a2d03",
   "metadata": {},
   "source": [
    "<h2>Author</h2>"
   ]
  },
  {
   "cell_type": "markdown",
   "id": "b02fa530",
   "metadata": {},
   "source": [
    "Kawsar Salam"
   ]
  },
  {
   "cell_type": "markdown",
   "id": "4249e3c1",
   "metadata": {},
   "source": [
    "<b>Objectives:</b>"
   ]
  },
  {
   "cell_type": "markdown",
   "id": "41938ebe",
   "metadata": {},
   "source": [
    "<li> List the tasks that a data scientist needs to perform to build a model </li>\n",
    "<li> List the open-source tools used in data science </li>\n",
    "<li> Describe the rlevant features of open-source tools </li>\n",
    "<li> List the commercial data science tools</li>"
   ]
  },
  {
   "cell_type": "markdown",
   "id": "573438e8",
   "metadata": {},
   "source": [
    "Some of the popular languages that Data Scientists use are:"
   ]
  },
  {
   "cell_type": "markdown",
   "id": "d60898fa",
   "metadata": {},
   "source": [
    "* List popular languages for Data Science"
   ]
  },
  {
   "cell_type": "markdown",
   "id": "0e5cd509",
   "metadata": {},
   "source": [
    "1.  Python\n",
    "2.  R\n",
    "3.  Scala\n",
    "4.  Java\n",
    "4.  Julia\n",
    "5.  SQL "
   ]
  },
  {
   "cell_type": "markdown",
   "id": "37969822",
   "metadata": {},
   "source": [
    "Some of the commonly used libraries used by Data Scientists include:"
   ]
  },
  {
   "cell_type": "markdown",
   "id": "c7940bc6",
   "metadata": {},
   "source": [
    "*  List the scientific computing libraries in Python, e.g., pandas, Numpy\n",
    "*  List the visualisation libraries in Python, e.g., matplotlib, seaborn\n",
    "*  List the high-level machine learning and deep learning in Python, e.g., tensorFlow, PyTorch\n"
   ]
  },
  {
   "cell_type": "markdown",
   "id": "70ca37d6",
   "metadata": {},
   "source": [
    "<table ><tr><th >Data Science Tools <th><tr>\n",
    "<tr><td> MySQL <td><tr>\n",
    "  <tr><td> Jupyter Notebook <td><tr>  \n",
    "      <tr><td> RStudio <td><tr>  \n",
    "    <tr><td> MongoDB <td><tr>  \n",
    "    <tr><td> Hadoop File System <td><tr> \n",
    "    <table>"
   ]
  },
  {
   "cell_type": "markdown",
   "id": "22f6eb70",
   "metadata": {},
   "source": [
    "<h3> Below are a few examples of evaluating arithmetic expressions in Python:"
   ]
  },
  {
   "cell_type": "code",
   "execution_count": 7,
   "id": "2d596dc5",
   "metadata": {},
   "outputs": [
    {
     "data": {
      "text/plain": [
       "11"
      ]
     },
     "execution_count": 7,
     "metadata": {},
     "output_type": "execute_result"
    }
   ],
   "source": [
    "a=4\n",
    "b=7\n",
    "a+b"
   ]
  },
  {
   "cell_type": "code",
   "execution_count": 8,
   "id": "a61973cc",
   "metadata": {},
   "outputs": [
    {
     "data": {
      "text/plain": [
       "28"
      ]
     },
     "execution_count": 8,
     "metadata": {},
     "output_type": "execute_result"
    }
   ],
   "source": [
    "a*b"
   ]
  },
  {
   "cell_type": "code",
   "execution_count": 9,
   "id": "e261d106",
   "metadata": {},
   "outputs": [
    {
     "data": {
      "text/plain": [
       "1.75"
      ]
     },
     "execution_count": 9,
     "metadata": {},
     "output_type": "execute_result"
    }
   ],
   "source": [
    "b/a"
   ]
  },
  {
   "cell_type": "code",
   "execution_count": 10,
   "id": "20154500",
   "metadata": {},
   "outputs": [
    {
     "data": {
      "text/plain": [
       "True"
      ]
     },
     "execution_count": 10,
     "metadata": {},
     "output_type": "execute_result"
    }
   ],
   "source": [
    "x=8\n",
    "y=8\n",
    "x==y"
   ]
  },
  {
   "cell_type": "code",
   "execution_count": 11,
   "id": "636af590",
   "metadata": {},
   "outputs": [
    {
     "data": {
      "text/plain": [
       "True"
      ]
     },
     "execution_count": 11,
     "metadata": {},
     "output_type": "execute_result"
    }
   ],
   "source": [
    "x<=y"
   ]
  },
  {
   "cell_type": "code",
   "execution_count": 12,
   "id": "3336a065",
   "metadata": {},
   "outputs": [
    {
     "data": {
      "text/plain": [
       "True"
      ]
     },
     "execution_count": 12,
     "metadata": {},
     "output_type": "execute_result"
    }
   ],
   "source": [
    "x>=y"
   ]
  },
  {
   "cell_type": "code",
   "execution_count": 13,
   "id": "8a3adfd4",
   "metadata": {},
   "outputs": [
    {
     "data": {
      "text/plain": [
       "88"
      ]
     },
     "execution_count": 13,
     "metadata": {},
     "output_type": "execute_result"
    }
   ],
   "source": [
    "x*10+y"
   ]
  },
  {
   "cell_type": "markdown",
   "id": "9cc50881",
   "metadata": {},
   "source": [
    "<i>This a simple arithmetic expression to mutiply then add integers </i>"
   ]
  },
  {
   "cell_type": "code",
   "execution_count": 1,
   "id": "9a8cae0c",
   "metadata": {},
   "outputs": [
    {
     "data": {
      "text/plain": [
       "17"
      ]
     },
     "execution_count": 1,
     "metadata": {},
     "output_type": "execute_result"
    }
   ],
   "source": [
    "(3*4)+5"
   ]
  },
  {
   "cell_type": "markdown",
   "id": "82c958a4",
   "metadata": {},
   "source": [
    "<i>This will convert 200 minutes to hours by diving by 60</i>"
   ]
  },
  {
   "cell_type": "code",
   "execution_count": 4,
   "id": "c5e3ac07",
   "metadata": {},
   "outputs": [
    {
     "data": {
      "text/plain": [
       "3.3333333333333335"
      ]
     },
     "execution_count": 4,
     "metadata": {},
     "output_type": "execute_result"
    }
   ],
   "source": [
    "200/60"
   ]
  },
  {
   "cell_type": "markdown",
   "id": "af047bfd",
   "metadata": {},
   "source": [
    "<h2> Author</h2>"
   ]
  },
  {
   "cell_type": "markdown",
   "id": "8919efa5",
   "metadata": {},
   "source": [
    "Kawsar Salam"
   ]
  },
  {
   "cell_type": "code",
   "execution_count": null,
   "id": "b780989a",
   "metadata": {},
   "outputs": [],
   "source": []
  }
 ],
 "metadata": {
  "kernelspec": {
   "display_name": "Python 3",
   "language": "python",
   "name": "python3"
  },
  "language_info": {
   "codemirror_mode": {
    "name": "ipython",
    "version": 3
   },
   "file_extension": ".py",
   "mimetype": "text/x-python",
   "name": "python",
   "nbconvert_exporter": "python",
   "pygments_lexer": "ipython3",
   "version": "3.8.8"
  }
 },
 "nbformat": 4,
 "nbformat_minor": 5
}
